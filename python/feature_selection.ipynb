{
 "cells": [
  {
   "cell_type": "code",
   "execution_count": 1,
   "metadata": {
    "collapsed": true
   },
   "outputs": [],
   "source": [
    "from sklearn.feature_selection import mutual_info_classif"
   ]
  },
  {
   "cell_type": "code",
   "execution_count": 2,
   "metadata": {
    "collapsed": true
   },
   "outputs": [],
   "source": [
    "import pandas as pd\n",
    "df = pd.read_csv('/home/sumit/ijcai_18_competetion/ijcai_competetion_submissions/round1_ijcai_18_train_20180301.txt', sep=' ')\n"
   ]
  },
  {
   "cell_type": "code",
   "execution_count": 3,
   "metadata": {
    "collapsed": false
   },
   "outputs": [
    {
     "name": "stdout",
     "output_type": "stream",
     "text": [
      "<class 'pandas.core.frame.DataFrame'>\n"
     ]
    }
   ],
   "source": [
    "print(type(df))"
   ]
  },
  {
   "cell_type": "code",
   "execution_count": 29,
   "metadata": {
    "collapsed": false
   },
   "outputs": [
    {
     "name": "stdout",
     "output_type": "stream",
     "text": [
      "['instance_id', 'item_id', 'item_category_list', 'item_property_list', 'item_brand_id', 'item_city_id', 'item_price_level', 'item_sales_level', 'item_collected_level', 'item_pv_level', 'user_id', 'user_gender_id', 'user_age_level', 'user_occupation_id', 'user_star_level', 'context_id', 'context_timestamp', 'context_page_id', 'predict_category_property', 'shop_id', 'shop_review_num_level', 'shop_review_positive_rate', 'shop_star_level', 'shop_score_service', 'shop_score_delivery', 'shop_score_description']\n"
     ]
    }
   ],
   "source": [
    "X = df.loc[:,\"instance_id\":\"shop_score_description\"]\n",
    "print(list(X))\n",
    "X = X.drop('predict_category_property', axis = 1).drop('item_category_list', axis = 1).drop('item_property_list', axis = 1).drop('instance_id', axis = 1)\n",
    "y = df.loc[:,\"is_trade\"]"
   ]
  },
  {
   "cell_type": "code",
   "execution_count": 31,
   "metadata": {
    "collapsed": false
   },
   "outputs": [
    {
     "name": "stdout",
     "output_type": "stream",
     "text": [
      "(478138, 27)\n",
      "(478138, 22)\n",
      "(478138,)\n"
     ]
    }
   ],
   "source": [
    "print(df.shape)\n",
    "print(X.shape)\n",
    "print(y.shape)\n"
   ]
  },
  {
   "cell_type": "code",
   "execution_count": 37,
   "metadata": {
    "collapsed": false
   },
   "outputs": [],
   "source": [
    "headers = X.columns.values"
   ]
  },
  {
   "cell_type": "code",
   "execution_count": 38,
   "metadata": {
    "collapsed": false
   },
   "outputs": [
    {
     "name": "stdout",
     "output_type": "stream",
     "text": [
      "<class 'numpy.ndarray'>\n"
     ]
    }
   ],
   "source": [
    "print(type(headers))"
   ]
  },
  {
   "cell_type": "code",
   "execution_count": 34,
   "metadata": {
    "collapsed": false
   },
   "outputs": [],
   "source": [
    "information_gain = mutual_info_classif(X, y, discrete_features=True, n_neighbors=3, copy=True, random_state=None)"
   ]
  },
  {
   "cell_type": "code",
   "execution_count": 35,
   "metadata": {
    "collapsed": false
   },
   "outputs": [
    {
     "name": "stdout",
     "output_type": "stream",
     "text": [
      "<class 'numpy.ndarray'>\n"
     ]
    }
   ],
   "source": [
    "print(type(information_gain))"
   ]
  },
  {
   "cell_type": "code",
   "execution_count": 40,
   "metadata": {
    "collapsed": true
   },
   "outputs": [],
   "source": [
    "import numpy as np"
   ]
  },
  {
   "cell_type": "code",
   "execution_count": 54,
   "metadata": {
    "collapsed": false
   },
   "outputs": [],
   "source": [
    "col_info_gain = np.column_stack((headers,information_gain))"
   ]
  },
  {
   "cell_type": "code",
   "execution_count": 62,
   "metadata": {
    "collapsed": false
   },
   "outputs": [
    {
     "name": "stdout",
     "output_type": "stream",
     "text": [
      "[['item_id' 0.010522639833195464]\n",
      " ['item_brand_id' 0.004879573374126509]\n",
      " ['item_city_id' 0.0011728717400759942]\n",
      " ['item_price_level' 0.0014882027038215524]\n",
      " ['item_sales_level' 0.0008103814985133843]\n",
      " ['item_collected_level' 0.00015136496743277644]\n",
      " ['item_pv_level' 8.241890899557294e-05]\n",
      " ['user_id' 0.06625031605757742]\n",
      " ['user_gender_id' 6.042479814544503e-05]\n",
      " ['user_age_level' 0.00018053941801848486]\n",
      " ['user_occupation_id' 3.686728400902929e-05]\n",
      " ['user_star_level' 0.00011332032112446858]\n",
      " ['context_id' 0.09359606519383998]\n",
      " ['context_timestamp' 0.07246280408688563]\n",
      " ['context_page_id' 9.692209355715415e-05]\n",
      " ['shop_id' 0.007245146049007582]\n",
      " ['shop_review_num_level' 0.00027023359685825784]\n",
      " ['shop_review_positive_rate' 0.009524604299192711]\n",
      " ['shop_star_level' 0.00026247701290254557]\n",
      " ['shop_score_service' 0.015136378984198416]\n",
      " ['shop_score_delivery' 0.015047638077718143]\n",
      " ['shop_score_description' 0.015026727440190218]]\n"
     ]
    }
   ],
   "source": [
    "print(col_info_gain)"
   ]
  },
  {
   "cell_type": "code",
   "execution_count": 64,
   "metadata": {
    "collapsed": false
   },
   "outputs": [
    {
     "name": "stdout",
     "output_type": "stream",
     "text": [
      "[['context_id' 3.686728400902929e-05]\n",
      " ['context_page_id' 6.042479814544503e-05]\n",
      " ['context_timestamp' 8.241890899557294e-05]\n",
      " ['item_brand_id' 9.692209355715415e-05]\n",
      " ['item_city_id' 0.00011332032112446858]\n",
      " ['item_collected_level' 0.00015136496743277644]\n",
      " ['item_id' 0.00018053941801848486]\n",
      " ['item_price_level' 0.00026247701290254557]\n",
      " ['item_pv_level' 0.00027023359685825784]\n",
      " ['item_sales_level' 0.0008103814985133843]\n",
      " ['shop_id' 0.0011728717400759942]\n",
      " ['shop_review_num_level' 0.0014882027038215524]\n",
      " ['shop_review_positive_rate' 0.004879573374126509]\n",
      " ['shop_score_delivery' 0.007245146049007582]\n",
      " ['shop_score_description' 0.009524604299192711]\n",
      " ['shop_score_service' 0.010522639833195464]\n",
      " ['shop_star_level' 0.015026727440190218]\n",
      " ['user_age_level' 0.015047638077718143]\n",
      " ['user_gender_id' 0.015136378984198416]\n",
      " ['user_id' 0.06625031605757742]\n",
      " ['user_occupation_id' 0.07246280408688563]\n",
      " ['user_star_level' 0.09359606519383998]]\n"
     ]
    }
   ],
   "source": [
    "print(np.sort(col_info_gain,axis = 0))"
   ]
  },
  {
   "cell_type": "code",
   "execution_count": null,
   "metadata": {
    "collapsed": false
   },
   "outputs": [],
   "source": [
    "#from numpy import genfromtxt\n",
    "import numpy as np\n",
    "my_data = np.loadtxt('/home/sumit/ijcai_18_competetion/ijcai_competetion_submissions/round1_ijcai_18_train_20180301.txt'\n",
    "                     , delimiter=' ',skiprows=1)"
   ]
  },
  {
   "cell_type": "code",
   "execution_count": null,
   "metadata": {
    "collapsed": false
   },
   "outputs": [],
   "source": [
    "print(my_data)"
   ]
  },
  {
   "cell_type": "code",
   "execution_count": null,
   "metadata": {
    "collapsed": true
   },
   "outputs": [],
   "source": []
  }
 ],
 "metadata": {
  "kernelspec": {
   "display_name": "IPython (Python 3)",
   "language": "python",
   "name": "python3"
  },
  "language_info": {
   "codemirror_mode": {
    "name": "ipython",
    "version": 3
   },
   "file_extension": ".py",
   "mimetype": "text/x-python",
   "name": "python",
   "nbconvert_exporter": "python",
   "pygments_lexer": "ipython3",
   "version": "3.4.3"
  }
 },
 "nbformat": 4,
 "nbformat_minor": 0
}
