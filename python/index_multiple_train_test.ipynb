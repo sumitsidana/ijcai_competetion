{
 "cells": [
  {
   "cell_type": "code",
   "execution_count": 1,
   "metadata": {
    "collapsed": true
   },
   "outputs": [],
   "source": [
    "import pandas as pd\n",
    "from sklearn.preprocessing import LabelEncoder\n",
    "from collections import defaultdict"
   ]
  },
  {
   "cell_type": "code",
   "execution_count": 2,
   "metadata": {
    "collapsed": true
   },
   "outputs": [],
   "source": [
    "df_train = pd.read_csv('/Users/sumitsidana/ijcai_2018_competetion/ijcai_submissions/round1_ijcai_18_train_20180301.txt', sep=' ')\n",
    "df_test = pd.read_csv('/Users/sumitsidana/ijcai_2018_competetion/ijcai_submissions/round1_ijcai_18_test_a_20180301.txt', sep=' ')"
   ]
  },
  {
   "cell_type": "code",
   "execution_count": 3,
   "metadata": {
    "collapsed": true
   },
   "outputs": [],
   "source": [
    "#df_train = df_train.loc[:,\"item_id\":\"is_trade\"]\n",
    "df_test[\"is_trade\"] = 0\n",
    "df = pd.concat([df_train, df_test])\n",
    "#df_test = df_test.loc[:,\"item_id\":\"is_trade\"]"
   ]
  },
  {
   "cell_type": "code",
   "execution_count": 4,
   "metadata": {
    "collapsed": true
   },
   "outputs": [],
   "source": [
    "d = defaultdict(LabelEncoder)"
   ]
  },
  {
   "cell_type": "code",
   "execution_count": 5,
   "metadata": {},
   "outputs": [],
   "source": [
    "# Encoding the variable\n",
    "df_encoded = df.apply(lambda x: d[x.name].fit_transform(x))\n",
    "\n",
    "# Inverse the encoded\n",
    "df_inverted = df_encoded.apply(lambda x: d[x.name].inverse_transform(x))\n",
    "\n",
    "# Using the dictionary to label future data\n",
    "#df_test_encoded = df_test.apply(lambda x: d[x.name].transform(x))\n",
    "\n"
   ]
  },
  {
   "cell_type": "code",
   "execution_count": 6,
   "metadata": {
    "collapsed": true
   },
   "outputs": [],
   "source": [
    "df_encoded.to_csv('/Users/sumitsidana/ijcai_2018_competetion/ijcai_submissions/input_files_ensembles/df_encoded', sep=' ', index = False)\n",
    "df_inverted.to_csv('/Users/sumitsidana/ijcai_2018_competetion/ijcai_submissions/input_files_ensembles/df_inverted', sep=' ' , index = False)"
   ]
  },
  {
   "cell_type": "code",
   "execution_count": 7,
   "metadata": {},
   "outputs": [
    {
     "name": "stdout",
     "output_type": "stream",
     "text": [
      "all_shape (478138, 27)\n",
      "1537804787\n",
      "1537200001\n",
      "1537506452.5\n",
      "all_shape (478138, 27)\n",
      "val_train_shape (239069, 27)\n",
      "val_shape (239069, 27)\n"
     ]
    }
   ],
   "source": [
    "print('all_shape',df_train.shape)\n",
    "print(df_train['context_timestamp'].max())\n",
    "print(df_train['context_timestamp'].min())\n",
    "print(df_train['context_timestamp'].median())\n",
    "median_timestamp = df_train['context_timestamp'].median()\n",
    "test_val = df_train[df_train['context_timestamp'] > median_timestamp]\n",
    "train_val = df_train[df_train['context_timestamp'] <= median_timestamp]\n",
    "print('all_shape',df_train.shape)\n",
    "print('val_train_shape', train_val.shape)\n",
    "print('val_shape', test_val.shape)\n",
    "\n",
    "median_timestamp_a = train_val['context_timestamp'].median()\n",
    "median_timestamp_b = test_val['context_timestamp'].median()\n",
    "\n",
    "train_a_val = train_val[train_val['context_timestamp'] <= median_timestamp_a]\n",
    "test_a_val = train_val[train_val['context_timestamp'] > median_timestamp_a]\n",
    "train_b_val = test_val[test_val['context_timestamp'] <= median_timestamp_b]\n",
    "test_b_val = test_val[test_val['context_timestamp']> median_timestamp_b]"
   ]
  },
  {
   "cell_type": "code",
   "execution_count": 8,
   "metadata": {},
   "outputs": [],
   "source": [
    "# Using the dictionary to label future data\n",
    "train_val_encoded = train_val.apply(lambda x: d[x.name].transform(x))\n",
    "test_val_encoded = test_val.apply(lambda x: d[x.name].transform(x))\n",
    "\n",
    "train_a_val_encoded = train_a_val.apply(lambda x: d[x.name].transform(x))\n",
    "test_a_val_encoded = test_a_val.apply(lambda x: d[x.name].transform(x))\n",
    "train_b_val_encoded = train_b_val.apply(lambda x: d[x.name].transform(x))\n",
    "test_b_val_encoded = test_b_val.apply(lambda x: d[x.name].transform(x))"
   ]
  },
  {
   "cell_type": "code",
   "execution_count": 9,
   "metadata": {},
   "outputs": [],
   "source": [
    "train_a_val_encoded.to_csv('/Users/sumitsidana/ijcai_2018_competetion/ijcai_submissions/input_files_ensembles/train_a', sep=' ', index = False)\n",
    "test_a_val_encoded.to_csv('/Users/sumitsidana/ijcai_2018_competetion/ijcai_submissions/input_files_ensembles/train_b', sep=' ', index = False)\n",
    "train_b_val_encoded.to_csv('/Users/sumitsidana/ijcai_2018_competetion/ijcai_submissions/input_files_ensembles/train_c', sep=' ', index = False)\n",
    "test_b_val_encoded.to_csv('/Users/sumitsidana/ijcai_2018_competetion/ijcai_submissions/input_files_ensembles/train_d', sep=' ', index = False)\n",
    "train_val_encoded.to_csv('/Users/sumitsidana/ijcai_2018_competetion/ijcai_submissions/input_files_ensembles/train_val_encoded', sep=' ', index = False)\n",
    "test_val_encoded.to_csv('/Users/sumitsidana/ijcai_2018_competetion/ijcai_submissions/input_files_ensembles/test_val_encoded', sep=' ', index = False)"
   ]
  },
  {
   "cell_type": "code",
   "execution_count": 11,
   "metadata": {},
   "outputs": [
    {
     "name": "stdout",
     "output_type": "stream",
     "text": [
      "1537350882\n",
      "1537506452\n",
      "1537635378\n",
      "1537804787\n"
     ]
    }
   ],
   "source": [
    "print(train_a_val['context_timestamp'].max())\n",
    "print(test_a_val['context_timestamp'].max())\n",
    "print(train_b_val['context_timestamp'].max())\n",
    "print(test_b_val['context_timestamp'].max())"
   ]
  },
  {
   "cell_type": "code",
   "execution_count": null,
   "metadata": {
    "collapsed": true
   },
   "outputs": [],
   "source": []
  }
 ],
 "metadata": {
  "kernelspec": {
   "display_name": "Python 3",
   "language": "python",
   "name": "python3"
  },
  "language_info": {
   "codemirror_mode": {
    "name": "ipython",
    "version": 3
   },
   "file_extension": ".py",
   "mimetype": "text/x-python",
   "name": "python",
   "nbconvert_exporter": "python",
   "pygments_lexer": "ipython3",
   "version": "3.6.2"
  }
 },
 "nbformat": 4,
 "nbformat_minor": 2
}
