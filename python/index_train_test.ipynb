{
 "cells": [
  {
   "cell_type": "code",
   "execution_count": 1,
   "metadata": {
    "collapsed": true
   },
   "outputs": [],
   "source": [
    "import pandas as pd\n",
    "from sklearn.preprocessing import LabelEncoder\n",
    "from collections import defaultdict"
   ]
  },
  {
   "cell_type": "code",
   "execution_count": 2,
   "metadata": {
    "collapsed": true
   },
   "outputs": [],
   "source": [
    "df_train = pd.read_csv('/home/sumit/ijcai_18_competetion/ijcai_competetion_submissions/round1_ijcai_18_train_20180301.txt', sep=' ')\n",
    "df_test = pd.read_csv('/home/sumit/ijcai_18_competetion/ijcai_competetion_submissions/round1_ijcai_18_test_a_20180301.txt', sep=' ')"
   ]
  },
  {
   "cell_type": "code",
   "execution_count": 3,
   "metadata": {
    "collapsed": true
   },
   "outputs": [],
   "source": [
    "#df_train = df_train.loc[:,\"item_id\":\"is_trade\"]\n",
    "df_test[\"is_trade\"] = 0\n",
    "df = pd.concat([df_train, df_test])\n",
    "#df_test = df_test.loc[:,\"item_id\":\"is_trade\"]"
   ]
  },
  {
   "cell_type": "code",
   "execution_count": 4,
   "metadata": {
    "collapsed": true
   },
   "outputs": [],
   "source": [
    "d = defaultdict(LabelEncoder)"
   ]
  },
  {
   "cell_type": "code",
   "execution_count": 5,
   "metadata": {
    "collapsed": true
   },
   "outputs": [],
   "source": [
    "# Encoding the variable\n",
    "df_encoded = df.apply(lambda x: d[x.name].fit_transform(x))\n",
    "\n",
    "# Inverse the encoded\n",
    "df_inverted = df_encoded.apply(lambda x: d[x.name].inverse_transform(x))\n",
    "\n",
    "# Using the dictionary to label future data\n",
    "#df_test_encoded = df_test.apply(lambda x: d[x.name].transform(x))\n",
    "\n"
   ]
  },
  {
   "cell_type": "code",
   "execution_count": 8,
   "metadata": {
    "collapsed": false
   },
   "outputs": [],
   "source": [
    "df_encoded.to_csv('/home/sumit/ijcai_18_competetion/ijcai_competetion_submissions/df_encoded', sep=' ', index = False)\n",
    "df_inverted.to_csv('/home/sumit/ijcai_18_competetion/ijcai_competetion_submissions/df_inverted', sep=' ' , index = False)"
   ]
  },
  {
   "cell_type": "code",
   "execution_count": null,
   "metadata": {
    "collapsed": true
   },
   "outputs": [],
   "source": []
  }
 ],
 "metadata": {
  "kernelspec": {
   "display_name": "IPython (Python 3)",
   "language": "python",
   "name": "python3"
  },
  "language_info": {
   "codemirror_mode": {
    "name": "ipython",
    "version": 3
   },
   "file_extension": ".py",
   "mimetype": "text/x-python",
   "name": "python",
   "nbconvert_exporter": "python",
   "pygments_lexer": "ipython3",
   "version": "3.4.3"
  }
 },
 "nbformat": 4,
 "nbformat_minor": 2
}
