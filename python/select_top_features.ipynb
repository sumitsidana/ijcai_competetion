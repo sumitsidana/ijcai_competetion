{
 "cells": [
  {
   "cell_type": "code",
   "execution_count": null,
   "metadata": {
    "collapsed": true
   },
   "outputs": [],
   "source": [
    "#item_id item_category_list item_property_list item_brand_id\n",
    "#item_city_id item_price_level item_sales_level\n",
    "#item_collected_level item_pv_level user_id user_gender_id\n",
    "#user_age_level user_occupation_id user_star_level\n",
    "#context_id context_timestamp context_page_id predict_category_property\n",
    "#shop_id shop_review_num_level shop_review_positive_rate shop_star_level\n",
    "#shop_score_service shop_score_delivery shop_score_description is_trade"
   ]
  },
  {
   "cell_type": "code",
   "execution_count": null,
   "metadata": {
    "collapsed": true
   },
   "outputs": [],
   "source": [
    "import pandas as pd\n",
    "df_train = pd.read_csv('/data/sidana/ijcai_competetion/input_files/train_val_encoded', sep=' ')\n",
    "df_test = pd.read_csv('/data/sidana/ijcai_competetion/input_files/test_val_encoded', sep=' ')\n",
    "train = df_train[['item_city_id','item_price_level','item_category_list','item_brand_id','shop_id','shop_review_positive_rate','item_id','item_property_list','shop_score_description','shop_score_delivery','shop_score_service','predict_category_property','user_id','context_timestamp','context_id',\"is_trade\"]]\n",
    "test = df_test[['item_city_id','item_price_level','item_category_list','item_brand_id','shop_id','shop_review_positive_rate','item_id','item_property_list','shop_score_description','shop_score_delivery','shop_score_service','predict_category_property','user_id','context_timestamp','context_id',\"is_trade\"]]\n",
    "train.to_csv('/data/sidana/ijcai_competetion/baselines/ffm/train_val.csv', sep=' ', index = False)\n",
    "test.to_csv('/data/sidana/ijcai_competetion/baselines/ffm/test_val.csv', sep=' ' , index = False)"
   ]
  },
  {
   "cell_type": "code",
   "execution_count": null,
   "metadata": {
    "collapsed": true
   },
   "outputs": [],
   "source": [
    "import pandas as pd\n",
    "df_train = pd.read_csv('/data/sidana/ijcai_competetion/baselines/train.csv', sep=' ')\n",
    "df_test = pd.read_csv('/data/sidana/ijcai_competetion/baselines/test.csv', sep=' ')\n",
    "train = df_train[['item_city_id','item_price_level','item_category_list','item_brand_id','shop_id','shop_review_positive_rate','item_id','item_property_list','shop_score_description','shop_score_delivery','shop_score_service','predict_category_property','user_id','context_timestamp','context_id',\"is_trade\"]]\n",
    "test = df_test[['item_city_id','item_price_level','item_category_list','item_brand_id','shop_id','shop_review_positive_rate','item_id','item_property_list','shop_score_description','shop_score_delivery','shop_score_service','predict_category_property','user_id','context_timestamp','context_id',\"is_trade\"]]\n",
    "train.to_csv('/data/sidana/ijcai_competetion/baselines/ffm/train.csv', sep=' ', index = False)\n",
    "test.to_csv('/data/sidana/ijcai_competetion/baselines/ffm/test.csv', sep=' ' , index = False)"
   ]
  },
  {
   "cell_type": "code",
   "execution_count": null,
   "metadata": {
    "collapsed": true
   },
   "outputs": [],
   "source": [
    "# all features\n",
    "import pandas as pd\n",
    "df_train = pd.read_csv('/data/sidana/ijcai_competetion/input_files/train_val_encoded', sep=' ')\n",
    "df_test = pd.read_csv('/data/sidana/ijcai_competetion/input_files/test_val_encoded', sep=' ')\n",
    "train = df_train.drop('instance_id', axis = 1)\n",
    "test = df_test.drop('instance_id', axis = 1)\n",
    "train.to_csv('/data/sidana/ijcai_competetion/baselines/ffm/train_val.csv', sep=' ', index = False)\n",
    "test.to_csv('/data/sidana/ijcai_competetion/baselines/ffm/test_val.csv', sep=' ' , index = False)"
   ]
  }
 ],
 "metadata": {
  "kernelspec": {
   "display_name": "Python 3",
   "language": "python",
   "name": "python3"
  },
  "language_info": {
   "codemirror_mode": {
    "name": "ipython",
    "version": 3
   },
   "file_extension": ".py",
   "mimetype": "text/x-python",
   "name": "python",
   "nbconvert_exporter": "python",
   "pygments_lexer": "ipython3",
   "version": "3.6.2"
  }
 },
 "nbformat": 4,
 "nbformat_minor": 2
}
