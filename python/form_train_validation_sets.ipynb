{
 "cells": [
  {
   "cell_type": "code",
   "execution_count": null,
   "metadata": {
    "collapsed": true
   },
   "outputs": [],
   "source": [
    "import pandas as pd\n",
    "import time"
   ]
  },
  {
   "cell_type": "code",
   "execution_count": null,
   "metadata": {
    "collapsed": true
   },
   "outputs": [],
   "source": [
    "def time2cov(time_):\n",
    "\n",
    "    return time.strftime(\"%Y-%m-%d %H:%M:%S\",time.localtime(time_))\n",
    "    "
   ]
  },
  {
   "cell_type": "code",
   "execution_count": null,
   "metadata": {
    "collapsed": true
   },
   "outputs": [],
   "source": [
    "def pre_process(data):\n",
    "    '''\n",
    "    :param data:\n",
    "    :return:\n",
    "    '''\n",
    "\n",
    "    print('item_category_list_ing')\n",
    "    for i in range(3):\n",
    "        data['category_%d'%(i)] = data['item_category_list'].apply(\n",
    "            lambda x:x.split(\";\")[i] if len(x.split(\";\")) > i else \" \"\n",
    "        )\n",
    "    del data['item_category_list']\n",
    "\n",
    "    print('item_property_list_ing')\n",
    "    for i in range(3):\n",
    "        data['property_%d'%(i)] = data['item_property_list'].apply(\n",
    "            lambda x:x.split(\";\")[i] if len(x.split(\";\")) > i else \" \"\n",
    "        )\n",
    "    del data['item_property_list']\n",
    "\n",
    "    print('context_timestamp_ing')\n",
    "    data['context_timestamp'] = data['context_timestamp'].apply(time2cov)\n",
    "\n",
    "    print('time')\n",
    "    data['context_timestamp_tmp'] = pd.to_datetime(data['context_timestamp'])\n",
    "    data['week'] = data['context_timestamp_tmp'].dt.weekday\n",
    "    data['hour'] = data['context_timestamp_tmp'].dt.hour\n",
    "    del data['context_timestamp_tmp']\n",
    "\n",
    "\n",
    "    print('predict_category_property_ing_0')\n",
    "    for i in range(3):\n",
    "        data['predict_category_%d'%(i)] = data['predict_category_property'].apply(\n",
    "            lambda x:str(x.split(\";\")[i]).split(\":\")[0] if len(x.split(\";\")) > i else \" \"\n",
    "        )\n",
    "\n",
    "    # print('predict_category_property_ing_1')\n",
    "    # for i in range(3):\n",
    "    #     data['predict_property_%d'%(i)] = data['predict_category_property'].apply(\n",
    "    #         lambda x:str(x.split(\";\")[i]).split(\":\")[1] if len(x.split(\";\")) > i else \" \"\n",
    "    #     )\n",
    "    #\n",
    "    #     for j in range(3):\n",
    "    #         data['predict_property_%d_%d' % (i,j)] = data['predict_property_%d'%(i)].apply(\n",
    "    #             lambda x: x.split(\",\")[j] if len(x.split(\",\")) > j else -1\n",
    "    #         )\n",
    "\n",
    "    del data['predict_category_property']\n",
    "    # del data['predict_property_1']\n",
    "    # del data['predict_property_2']\n",
    "\n",
    "    return data"
   ]
  },
  {
   "cell_type": "code",
   "execution_count": null,
   "metadata": {
    "collapsed": false
   },
   "outputs": [],
   "source": [
    "import pandas as pd\n",
    "train = pd.read_csv('/home/sumit/ijcai_18_competetion/ijcai_competetion_submissions/round1_ijcai_18_train_20180301.txt',sep=\" \")\n",
    "\n",
    "train = pre_process(train)\n",
    "\n",
    "all_data = train.copy()\n",
    "\n",
    "\n",
    "print('all_shape',train.shape)\n",
    "print(train['context_timestamp'].max())\n",
    "print(train['context_timestamp'].min())\n",
    "print(train['context_timestamp'].median())\n",
    "\n",
    "median_timestamp = train['context_timestamp'].median()\n",
    "test_val = train[train['context_timestamp'] > median_timestamp]\n",
    "train_val = train[train['context_timestamp'] <= median_timestamp]\n",
    "\n",
    "\n",
    "print('all_shape',train.shape)\n",
    "print('val_train_shape', train_val.shape)\n",
    "print('val_shape', test_val.shape)\n",
    "\n",
    "\n",
    "#rain = train[train['context_timestamp']<='2018-09-21 23:59:59']\n"
   ]
  },
  {
   "cell_type": "code",
   "execution_count": null,
   "metadata": {
    "collapsed": false
   },
   "outputs": [],
   "source": [
    "test = pd.read_csv('/home/sumit/ijcai_18_competetion/ijcai_competetion_submissions/round1_ijcai_18_test_a_20180301.txt', sep=' ')\n",
    "test = pre_process(test)\n",
    "print('all_shape',test.shape)\n",
    "print(test['context_timestamp'].max())\n",
    "print(test['context_timestamp'].min())\n",
    "print(test['context_timestamp'].median())"
   ]
  },
  {
   "cell_type": "code",
   "execution_count": null,
   "metadata": {
    "collapsed": true
   },
   "outputs": [],
   "source": []
  }
 ],
 "metadata": {
  "kernelspec": {
   "display_name": "IPython (Python 3)",
   "language": "python",
   "name": "python3"
  },
  "language_info": {
   "codemirror_mode": {
    "name": "ipython",
    "version": 3
   },
   "file_extension": ".py",
   "mimetype": "text/x-python",
   "name": "python",
   "nbconvert_exporter": "python",
   "pygments_lexer": "ipython3",
   "version": "3.4.3"
  }
 },
 "nbformat": 4,
 "nbformat_minor": 0
}
